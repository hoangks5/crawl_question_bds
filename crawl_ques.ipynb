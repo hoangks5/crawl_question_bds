{
 "cells": [
  {
   "cell_type": "code",
   "execution_count": 1,
   "metadata": {},
   "outputs": [],
   "source": [
    "import time\n",
    "from selenium import webdriver\n",
    "from selenium.webdriver.common.keys import Keys\n",
    "from selenium.webdriver.common.by import By\n",
    "from selenium.common.exceptions import ElementNotVisibleException, StaleElementReferenceException\n",
    "from selenium.webdriver.support.ui import WebDriverWait\n",
    "from selenium.webdriver.support import expected_conditions as EC\n",
    "from selenium.webdriver.chrome.options import Options\n",
    "from webdriver_manager.chrome import ChromeDriverManager\n",
    "import re\n",
    "import pymongo\n",
    "import certifi\n",
    "import re\n",
    "import logging\n",
    "import undetected_chromedriver as uc\n",
    "import threading"
   ]
  },
  {
   "cell_type": "code",
   "execution_count": 2,
   "metadata": {},
   "outputs": [],
   "source": [
    "def create_browser(no_gui=False, proxy=None):\n",
    "        \n",
    "        chrome_options = Options()\n",
    "        chrome_options.add_argument('--no-sandbox')\n",
    "        chrome_options.add_argument('--disable-dev-shm-usage')\n",
    "        if no_gui:\n",
    "            chrome_options.add_argument('--headless')\n",
    "        if proxy:\n",
    "            chrome_options.add_argument(\"--proxy-server={}\".format(proxy))\n",
    "        browser = webdriver.Chrome(ChromeDriverManager().install(), chrome_options=chrome_options)\n",
    "\n",
    "        browser_version = 'Failed to detect version'\n",
    "        chromedriver_version = 'Failed to detect version'\n",
    "        major_version_different = False\n",
    "\n",
    "        if 'browserVersion' in browser.capabilities:\n",
    "            browser_version = str(browser.capabilities['browserVersion'])\n",
    "\n",
    "        if 'chrome' in browser.capabilities:\n",
    "            if 'chromedriverVersion' in browser.capabilities['chrome']:\n",
    "                chromedriver_version = str(browser.capabilities['chrome']['chromedriverVersion']).split(' ')[0]\n",
    "\n",
    "        if browser_version.split('.')[0] != chromedriver_version.split('.')[0]:\n",
    "            major_version_different = True\n",
    "        print('_________________________________')\n",
    "        print('Current web-browser version:\\t{}'.format(browser_version))\n",
    "        print('Current chrome-driver version:\\t{}'.format(chromedriver_version))\n",
    "        if major_version_different:\n",
    "            print('warning: Version different')\n",
    "            print(\n",
    "                'Download correct version at \"http://chromedriver.chromium.org/downloads\" and place in \"./chromedriver\"')\n",
    "        print('_________________________________')\n",
    "        return browser"
   ]
  },
  {
   "cell_type": "code",
   "execution_count": 3,
   "metadata": {},
   "outputs": [
    {
     "name": "stderr",
     "output_type": "stream",
     "text": [
      "/var/folders/nc/swjpn9dn0399lnks7r5f4bkw0000gn/T/ipykernel_61291/3757438724.py:10: DeprecationWarning: executable_path has been deprecated, please pass in a Service object\n",
      "  browser = webdriver.Chrome(ChromeDriverManager().install(), chrome_options=chrome_options)\n",
      "/var/folders/nc/swjpn9dn0399lnks7r5f4bkw0000gn/T/ipykernel_61291/3757438724.py:10: DeprecationWarning: use options instead of chrome_options\n",
      "  browser = webdriver.Chrome(ChromeDriverManager().install(), chrome_options=chrome_options)\n"
     ]
    },
    {
     "name": "stdout",
     "output_type": "stream",
     "text": [
      "_________________________________\n",
      "Current web-browser version:\t112.0.5615.49\n",
      "Current chrome-driver version:\t112.0.5615.49\n",
      "_________________________________\n"
     ]
    }
   ],
   "source": [
    "driver = create_browser(no_gui=False, proxy=None)"
   ]
  },
  {
   "cell_type": "code",
   "execution_count": 4,
   "metadata": {},
   "outputs": [],
   "source": [
    "driver.get('https://thuvienphapluat.vn/hoi-dap-phap-luat/1ACF3-hd-thue-chuyen-nhuong-quyen-su-dung-dat-o.html')"
   ]
  },
  {
   "cell_type": "code",
   "execution_count": 24,
   "metadata": {},
   "outputs": [],
   "source": [
    "# tìm thẻ div chứa class name \"h3 fw-bold title\"\n",
    "ques = driver.find_element(By.XPATH,'//h1[@class=\"h3 fw-bold title\"]').text"
   ]
  },
  {
   "cell_type": "code",
   "execution_count": 23,
   "metadata": {},
   "outputs": [
    {
     "data": {
      "text/plain": [
       "'Thuế chuyển nhượng quyền sử dụng đất ở'"
      ]
     },
     "execution_count": 23,
     "metadata": {},
     "output_type": "execute_result"
    }
   ],
   "source": [
    "div.text"
   ]
  },
  {
   "cell_type": "code",
   "execution_count": 19,
   "metadata": {},
   "outputs": [
    {
     "data": {
      "text/plain": [
       "[]"
      ]
     },
     "execution_count": 19,
     "metadata": {},
     "output_type": "execute_result"
    }
   ],
   "source": [
    "div"
   ]
  },
  {
   "cell_type": "code",
   "execution_count": null,
   "metadata": {},
   "outputs": [],
   "source": []
  }
 ],
 "metadata": {
  "kernelspec": {
   "display_name": "base",
   "language": "python",
   "name": "python3"
  },
  "language_info": {
   "codemirror_mode": {
    "name": "ipython",
    "version": 3
   },
   "file_extension": ".py",
   "mimetype": "text/x-python",
   "name": "python",
   "nbconvert_exporter": "python",
   "pygments_lexer": "ipython3",
   "version": "3.9.13"
  },
  "orig_nbformat": 4
 },
 "nbformat": 4,
 "nbformat_minor": 2
}
